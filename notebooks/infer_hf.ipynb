{
 "cells": [
  {
   "cell_type": "code",
   "execution_count": 14,
   "metadata": {},
   "outputs": [],
   "source": [
    "from transformers import AutoTokenizer, AutoModelForCausalLM\n",
    "\n",
    "def generate_text(prompt, max_length=5000, num_return_sequences=1):\n",
    "    # Tokenize the input prompt\n",
    "    input_ids = tokenizer.encode(prompt, return_tensors=\"pt\")\n",
    "    \n",
    "    # Generate text using the model\n",
    "    outputs = model.generate(\n",
    "        input_ids,\n",
    "        max_length=max_length,\n",
    "        num_return_sequences=num_return_sequences,\n",
    "        no_repeat_ngram_size=2,  # Prevents repeating phrases\n",
    "        do_sample=True,          # Enables sampling; set to False for greedy decoding\n",
    "        top_k=50,                # Limits to the top 50 tokens for sampling\n",
    "        top_p=0.95,              # Nucleus sampling: considers tokens with cumulative probability of 0.95\n",
    "        temperature=0.7,         # Controls randomness in predictions\n",
    "        early_stopping=True      # Stops when an end-of-sentence token is generated\n",
    "    )\n",
    "    \n",
    "    # Decode the output tokens to strings\n",
    "    generated_texts = [tokenizer.decode(output, skip_special_tokens=True) for output in outputs]\n",
    "    return generated_texts"
   ]
  },
  {
   "cell_type": "code",
   "execution_count": null,
   "metadata": {},
   "outputs": [],
   "source": [
    "tokenizer = AutoTokenizer.from_pretrained(\"Harsh1729/qwenr1_1.5b_lora_sft-cotif-v1\")\n",
    "model = AutoModelForCausalLM.from_pretrained(\"Harsh1729/qwenr1_1.5b_lora_sft-cotif-v1\", device_map=\"auto\")"
   ]
  },
  {
   "cell_type": "code",
   "execution_count": 13,
   "metadata": {},
   "outputs": [
    {
     "name": "stdout",
     "output_type": "stream",
     "text": [
      " To compute $...$.\n",
      "\n",
      "<think>\n",
      "Okay, so I have this problem here where a student is taking a test, right? It's a 5-question test. For each question, there are 4 possible answers, but only one is the correct one. The question is asking me to compute the probability that thestudent gets exactly 3 correct questions, which is denoted as P(X = 7). Wait, hold on, 6? Hmm, maybe I misread that. Wait no, the question says P(4), which would be 0.4, not 8. Maybe it's just a typo in the problem statement. But okay, let me focus on what I need.\n",
      "\n",
      "So, first, I remember that when dealing with probabilities of getting a certain number correct on a true/false or multiple-choice test where each answer is independent, we can use the binominal distribution formula. That's the one I should use here because each test is a Bernoulli trial—either they get it right or they don't. So, binOMinal with n=number of trials, k=desired number, p=probability of success on each trial.\n",
      "\n",
      "The formula for the Binomial probability is:\n",
      "\n",
      "P(k) = C(n, n - k) * p^k * (1 - p)^(n -k)\n",
      "\n",
      "Wait, no. Hold on. I think I might have that formula backwards. Or maybe not. Actually, another way to write it is P(k successes) is C(5,4)*(1/4)^4*(3/5)^1? Wait a second, that seems off because the denominator should be consistent. Hmm.\n",
      "\n",
      "Wait nope, actually, each term should have the same denominator. In this case, since each of the 25 possible combinations of answers is equally likely, perhaps the total number is 9? No, wait, it can't be because  each problem has  ½ chance? Or is it ¼?\n",
      "\n",
      "Wait a minute, now I'm confused. Because each individual question only has four choices. If the test has five questions and each has one correct answer, then the sample space is all the possible ways the answers can be. There are four options for each, making the entire sample size  (4^5) which should equal  more.  But  four to five is...  Wait  wait  no.\n",
      "\n",
      "Hold on no:  Each of five problems has only  one answer correct, others incorrect. Therefore, for a single question with four possible options, only when you guess correctly do you get a point, otherwise, you don’t. Thus, in terms of probability, on any given question the chance of being correct is p =1 /4 and incorrect is q=3 /  n? wait no q is (number wrong)/ total.\n",
      "\n",
      "But in this setup, when considering multiple questions with independent events, yes, if each is like a coin flip, with two possible outcomes, heads or tails, or in our case correct or incorrect, independent with probability p and q.\n",
      "\n",
      "Therefore, to model the distribution, P = number right, X, has a Bin(n=1, q), where n is number questions.\n",
      "\n",
      "Hence, total possible number? So for  five independent questions each with  probability  of p of hitting correct and (3)/4 of missing? That is, is that correct?\n",
      "\n",
      "But wait a sec, hang on: each step is four possibilities, correct with one,\n"
     ]
    }
   ],
   "source": [
    "print(texts[0].replace(prompt, \"\"))"
   ]
  },
  {
   "cell_type": "code",
   "execution_count": 15,
   "metadata": {},
   "outputs": [
    {
     "name": "stderr",
     "output_type": "stream",
     "text": [
      "/share/u/harshraj/.conda/envs/r1/lib/python3.12/site-packages/transformers/generation/configuration_utils.py:676: UserWarning: `num_beams` is set to 1. However, `early_stopping` is set to `True` -- this flag is only used in beam-based generation modes. You should set `num_beams>1` or unset `early_stopping`.\n",
      "  warnings.warn(\n",
      "The attention mask and the pad token id were not set. As a consequence, you may observe unexpected behavior. Please pass your input's `attention_mask` to obtain reliable results.\n",
      "Setting `pad_token_id` to `eos_token_id`:151643 for open-end generation.\n",
      "/share/u/harshraj/.conda/envs/r1/lib/python3.12/site-packages/transformers/generation/utils.py:2137: UserWarning: You are calling .generate() with the `input_ids` being on a device type different than your model's device. `input_ids` is on cpu, whereas the model is on cuda. You may experience unexpected behaviors or slower generation. Please make sure that you have put `input_ids` to the correct device by calling for example input_ids = input_ids.to('cuda') before running `.generate()`.\n",
      "  warnings.warn(\n"
     ]
    },
    {
     "ename": "AttributeError",
     "evalue": "'list' object has no attribute 'replace'",
     "output_type": "error",
     "traceback": [
      "\u001b[0;31m---------------------------------------------------------------------------\u001b[0m",
      "\u001b[0;31mAttributeError\u001b[0m                            Traceback (most recent call last)",
      "Cell \u001b[0;32mIn[15], line 2\u001b[0m\n\u001b[1;32m      1\u001b[0m prompt \u001b[38;5;241m=\u001b[39m \u001b[38;5;124m\"\u001b[39m\u001b[38;5;124mWhen generating your thought process between `<think>` and `</think>`, please ensure adherence to the following guidelines:\u001b[39m\u001b[38;5;130;01m\\n\u001b[39;00m\u001b[38;5;130;01m\\n\u001b[39;00m\u001b[38;5;124m1. Your explanation should consist of at least one but no more than three paragraphs.\u001b[39m\u001b[38;5;130;01m\\n\u001b[39;00m\u001b[38;5;124m2. As we have identified excessive use of parentheses as a concern (`\u001b[39m\u001b[38;5;124m'\u001b[39m\u001b[38;5;124mcontains_excessive_parentheses\u001b[39m\u001b[38;5;124m'\u001b[39m\u001b[38;5;124m: True`), try to minimize their usage without compromising clarity.\u001b[39m\u001b[38;5;130;01m\\n\u001b[39;00m\u001b[38;5;124m3. You are free to include letters containing the letter \u001b[39m\u001b[38;5;130;01m\\\"\u001b[39;00m\u001b[38;5;124me\u001b[39m\u001b[38;5;130;01m\\\"\u001b[39;00m\u001b[38;5;124m if necessary (`\u001b[39m\u001b[38;5;124m'\u001b[39m\u001b[38;5;124mavoids_letter_e\u001b[39m\u001b[38;5;124m'\u001b[39m\u001b[38;5;124m: False`).\u001b[39m\u001b[38;5;130;01m\\n\u001b[39;00m\u001b[38;5;124m4. Refrain from incorporating emojis into your response (`\u001b[39m\u001b[38;5;124m'\u001b[39m\u001b[38;5;124mcontains_emojis\u001b[39m\u001b[38;5;124m'\u001b[39m\u001b[38;5;124m: False`).\u001b[39m\u001b[38;5;130;01m\\n\u001b[39;00m\u001b[38;5;124m5. Since we need to track palindrome occurrences, keep note of palindromes found during your reasoning; however, this specific task does not require reaching the target count of 182 palindromes (`\u001b[39m\u001b[38;5;124m'\u001b[39m\u001b[38;5;124mpalindrome_count\u001b[39m\u001b[38;5;124m'\u001b[39m\u001b[38;5;124m: 182`). \u001b[39m\u001b[38;5;130;01m\\n\u001b[39;00m\u001b[38;5;124m6. Organize your thoughts using lists or enumeration when helpful for understanding (`\u001b[39m\u001b[38;5;124m'\u001b[39m\u001b[38;5;124mcontains_list_or_enumeration\u001b[39m\u001b[38;5;124m'\u001b[39m\u001b[38;5;124m: True`)\u001b[39m\u001b[38;5;130;01m\\n\u001b[39;00m\u001b[38;5;130;01m\\n\u001b[39;00m\u001b[38;5;124mNow answer this question: A student takes a multiple choice test with $5$ questions. Each question has $4$ possible choices, and only $1$ of them is correct. Let $X$ be the random variable representing the number of correct answers the student gets. Then $X$ follows a binomial distribution with parameters $n=5$ and $p=\u001b[39m\u001b[38;5;130;01m\\\\\u001b[39;00m\u001b[38;5;124mfrac\u001b[39m\u001b[38;5;132;01m{1}\u001b[39;00m\u001b[38;5;132;01m{4}\u001b[39;00m\u001b[38;5;124m$. Compute $P(X=4)$.\u001b[39m\u001b[38;5;124m\"\u001b[39m\n\u001b[0;32m----> 2\u001b[0m texts \u001b[38;5;241m=\u001b[39m \u001b[43mgenerate_text\u001b[49m\u001b[43m(\u001b[49m\u001b[43mprompt\u001b[49m\u001b[43m)\u001b[49m\u001b[38;5;241;43m.\u001b[39;49m\u001b[43mreplace\u001b[49m(prompt, \u001b[38;5;124m\"\u001b[39m\u001b[38;5;124m\"\u001b[39m)\n\u001b[1;32m      3\u001b[0m \u001b[38;5;28;01mfor\u001b[39;00m i, text \u001b[38;5;129;01min\u001b[39;00m \u001b[38;5;28menumerate\u001b[39m(texts, \u001b[38;5;241m1\u001b[39m):\n\u001b[1;32m      4\u001b[0m     \u001b[38;5;28mprint\u001b[39m(\u001b[38;5;124mf\u001b[39m\u001b[38;5;124m\"\u001b[39m\u001b[38;5;130;01m\\n\u001b[39;00m\u001b[38;5;124mGenerated text \u001b[39m\u001b[38;5;132;01m{\u001b[39;00mi\u001b[38;5;132;01m}\u001b[39;00m\u001b[38;5;124m:\u001b[39m\u001b[38;5;130;01m\\n\u001b[39;00m\u001b[38;5;132;01m{\u001b[39;00mtext\u001b[38;5;132;01m}\u001b[39;00m\u001b[38;5;124m\"\u001b[39m)\n",
      "\u001b[0;31mAttributeError\u001b[0m: 'list' object has no attribute 'replace'"
     ]
    }
   ],
   "source": [
    "prompt = \"When generating your thought process between `<think>` and `</think>`, please ensure adherence to the following guidelines:\\n\\n1. Your explanation should consist of at least one but no more than three paragraphs.\\n2. As we have identified excessive use of parentheses as a concern (`'contains_excessive_parentheses': True`), try to minimize their usage without compromising clarity.\\n3. You are free to include letters containing the letter \\\"e\\\" if necessary (`'avoids_letter_e': False`).\\n4. Refrain from incorporating emojis into your response (`'contains_emojis': False`).\\n5. Since we need to track palindrome occurrences, keep note of palindromes found during your reasoning; however, this specific task does not require reaching the target count of 182 palindromes (`'palindrome_count': 182`). \\n6. Organize your thoughts using lists or enumeration when helpful for understanding (`'contains_list_or_enumeration': True`)\\n\\nNow answer this question: A student takes a multiple choice test with $5$ questions. Each question has $4$ possible choices, and only $1$ of them is correct. Let $X$ be the random variable representing the number of correct answers the student gets. Then $X$ follows a binomial distribution with parameters $n=5$ and $p=\\\\frac{1}{4}$. Compute $P(X=4)$.\"\n",
    "texts = generate_text(prompt).replace(prompt, \"\")\n",
    "for i, text in enumerate(texts, 1):\n",
    "    print(f\"\\nGenerated text {i}:\\n{text}\")\n"
   ]
  },
  {
   "cell_type": "code",
   "execution_count": 16,
   "metadata": {},
   "outputs": [],
   "source": [
    "import json \n",
    "data = []\n",
    "with open(\"/share/u/harshraj/CotIF/data/data_1k-2.jsonl\", \"r\") as file:\n",
    "    for line in file:\n",
    "        data.append(json.loads(line))"
   ]
  },
  {
   "cell_type": "code",
   "execution_count": 18,
   "metadata": {},
   "outputs": [
    {
     "name": "stdout",
     "output_type": "stream",
     "text": [
      "\n",
      "\n",
      "When generating your thought process for this problem, please follow these instructions:\n",
      "\n",
      "- Your step-by-step explanation should consist of **exactly four sections**, each representing a different aspect of the constraints provided.\n",
      "- In section one, address whether the text contains emojis; specifically, ensure that any mention of emoji presence adheres to the constraint of being either true or false without exception.\n",
      "- When discussing tense usage within the text, pay close attention to maintaining consistency throughout - if the constraint requires mixed tenses, make sure to highlight instances where tense changes occur, providing evidence from the original text as needed.\n",
      "- Section three involves counting palindromic phrases within the content; since we're dealing with ninety occurrences, provide clear examples and explanations behind how they were identified according to their reversed spelling pattern matching the original phrase's characters.\n",
      "- Lastly, when mentioning numbers found in the text, keep track of excessive parentheses use by identifying places where multiple sets appear together – acknowledge adherence to the specified condition based on observed patterns during analysis.\n",
      "\n",
      "Now answer this question: The duration of a process used to manufacture components is known to be normally distributed with a mean of 30 minutes and a standard deviation of 4 minutes. What is the probability of a time greater than 33 minutes being recorded?\n"
     ]
    }
   ],
   "source": [
    "print(data[0][0]['content'])"
   ]
  },
  {
   "cell_type": "code",
   "execution_count": 19,
   "metadata": {},
   "outputs": [
    {
     "name": "stdout",
     "output_type": "stream",
     "text": [
      "<think>\n",
      "Okay, so I have this problem here about the duration of a manufacturing process. It says the time is normally distributed with a mean of 30 minutes and a standard deviation of 4 minutes. I need to find the probability that the time is greater than 33 minutes. Hmm, let me think about how to approach this.\n",
      "\n",
      "First, I remember that in a normal distribution, the probability of a value being greater than the mean is 0.5 because the distribution is symmetric. But here, we're dealing with a specific value, 33 minutes, which is higher than the mean of 30 minutes. So, I need to figure out how far 33 is from the mean in terms of standard deviations and then use that to find the probability.\n",
      "\n",
      "I think the first step is to convert the given time into a z-score. The z-score tells us how many standard deviations away from the mean our value is. The formula for the z-score is:\n",
      "\n",
      "\\[ z = \\frac{X - \\mu}{\\sigma} \\]\n",
      "\n",
      "Where:\n",
      "- \\( X \\) is the value we're interested in (33 minutes),\n",
      "- \\( \\mu \\) is the mean (30 minutes),\n",
      "- \\( \\sigma \\) is the standard deviation (4 minutes).\n",
      "\n",
      "Plugging in the numbers:\n",
      "\n",
      "\\[ z = \\frac{33 - 30}{4} = \\frac{3}{4} = 0.75 \\]\n",
      "\n",
      "So, the z-score is 0.75. That means 33 minutes is 0.75 standard deviations above the mean.\n",
      "\n",
      "Now, I need to find the probability that a randomly selected time from this distribution is greater than 33 minutes. In terms of the z-score, this is the probability that Z is greater than 0.75.\n",
      "\n",
      "I recall that the standard normal distribution table (z-table) gives the probability that Z is less than a given value. So, if I look up z = 0.75 in the table, it will give me the probability that Z is less than 0.75, which is the area to the left of the z-score. But I need the area to the right of the z-score, which is the probability that Z is greater than 0.75.\n",
      "\n",
      "To find this, I can subtract the value from the z-table from 1. So, first, let me find the value for z = 0.75.\n",
      "\n",
      "Looking at the z-table, the row for 0.7 and the column for 0.05 (since 0.75 is 0.7 + 0.05). The value there is 0.7734. So, the probability that Z is less than 0.75 is 0.7734. Therefore, the probability that Z is greater than 0.75 is:\n",
      "\n",
      "\\[ 1 - 0.7734 = 0.2266 \\]\n",
      "\n",
      "So, the probability is 0.2266, which is 22.66%.\n",
      "\n",
      "Wait, let me double-check that. I might have made a mistake in reading the z-table. Sometimes the tables are organized differently, with some having more decimal places or different structures. Let me confirm.\n",
      "\n",
      "Yes, for z = 0.75, the cumulative probability is indeed approximately 0.7734. So subtracting that from 1 gives 0.2266. That seems right.\n",
      "\n",
      "Alternatively, I can use a calculator or a more precise method to find the exact value. But since the z-table gives us 0.7734, which is precise to four decimal places, 0.2266 should be accurate enough.\n",
      "\n",
      "So, putting it all together, the probability that the manufacturing time is greater than 33 minutes is approximately 22.66%.\n",
      "\n",
      "Wait, just to make sure I didn't make a mistake in the z-score calculation. Let me recalculate that:\n",
      "\n",
      "33 - 30 = 3. 3 divided by 4 is 0.75. Yep, that's correct. So, z = 0.75 is accurate.\n",
      "\n",
      "Another way to think about it is that 33 is three-quarters of a standard deviation above the mean. Since the standard normal distribution is symmetric, the area to the right should be less than 0.5, which 0.2266 is. So, that makes sense.\n",
      "\n",
      "I think I'm confident with this result. So, the probability is approximately 22.66%, which can be expressed as 0.2266 or 22.66%.\n",
      "\n",
      "**Final Answer**\n",
      "The probability of a time greater than 33 minutes being recorded is \\boxed{0.2266}.\n",
      "</think>\n",
      "\n",
      "The duration of a manufacturing process is normally distributed with a mean of 30 minutes and a standard deviation of 4 minutes. To find the probability of a time greater than 33 minutes being recorded, we first convert 33 minutes into a z-score using the formula:\n",
      "\n",
      "\\[ z = \\frac{X - \\mu}{\\sigma} \\]\n",
      "\n",
      "where \\( X = 33 \\), \\( \\mu = 30 \\), and \\( \\sigma = 4 \\). Plugging in the values, we get:\n",
      "\n",
      "\\[ z = \\frac{33 - 30}{4} = \\frac{3}{4} = 0.75 \\]\n",
      "\n",
      "Next, we use the standard normal distribution table (z-table) to find the probability that \\( Z \\) is less than 0.75. The z-table gives us a value of 0.7734 for \\( z = 0.75 \\). This value represents the probability that \\( Z \\) is less than 0.75. To find the probability that \\( Z \\) is greater than 0.75, we subtract this value from 1:\n",
      "\n",
      "\\[ 1 - 0.7734 = 0.2266 \\]\n",
      "\n",
      "Thus, the probability of a time greater than 33 minutes being recorded is \\boxed{0.2266}.\n"
     ]
    }
   ],
   "source": [
    "print(data[0][1]['content'])"
   ]
  },
  {
   "cell_type": "code",
   "execution_count": 1,
   "metadata": {},
   "outputs": [],
   "source": [
    "import json\n",
    "\n",
    "with open(\"/share/u/harshraj/CotIF/data/data_1k-using_templates-train-1.jsonl\", \"r\") as file:\n",
    "    data = [json.loads(line) for line in file]"
   ]
  },
  {
   "cell_type": "code",
   "execution_count": 9,
   "metadata": {},
   "outputs": [
    {
     "name": "stdout",
     "output_type": "stream",
     "text": [
      "('The diagram shows that a triangle is inscribed in a circle and in the '\n",
      " 'triangle, $\\\\overline{AC}=20$, $\\\\overline{BC}=7$, and $\\\\overline{AB}=17$. '\n",
      " 'What is the value of $x$?\\n'\n",
      " '\\n'\n",
      " 'Additional constraints:\\n'\n",
      " \"Ensure that your response contains 41 words ending with the letter 'x'.\\n\"\n",
      " 'Compose your response featuring True questions.\\n'\n",
      " 'Ensure that your response contains True punctuation marks.')\n"
     ]
    }
   ],
   "source": [
    "from pprint import pprint\n",
    "pprint(data[100])"
   ]
  }
 ],
 "metadata": {
  "kernelspec": {
   "display_name": "r1",
   "language": "python",
   "name": "python3"
  },
  "language_info": {
   "codemirror_mode": {
    "name": "ipython",
    "version": 3
   },
   "file_extension": ".py",
   "mimetype": "text/x-python",
   "name": "python",
   "nbconvert_exporter": "python",
   "pygments_lexer": "ipython3",
   "version": "3.12.9"
  }
 },
 "nbformat": 4,
 "nbformat_minor": 2
}
